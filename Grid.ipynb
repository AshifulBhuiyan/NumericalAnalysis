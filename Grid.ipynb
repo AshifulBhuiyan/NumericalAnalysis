{
 "cells": [
  {
   "cell_type": "code",
   "execution_count": 23,
   "metadata": {},
   "outputs": [],
   "source": [
    "import numpy as np\n",
    "import matplotlib.pyplot as plt\n",
    "from mpl_toolkits.mplot3d import Axes3D\n",
    "#Grid:\n",
    "def grid(a,b,c,d,n,m):\n",
    "    h = (b - a) / n\n",
    "    k = (d - c) / m\n",
    "    x=np.linspace(a,b,n+1)\n",
    "    y=np.linspace(c,d,m+1)\n",
    "    \n",
    "    return x, y, h, k\n",
    "\n",
    "#Boundary\n",
    "def boundary(x,y, gxc, gxd, gya, gyb, n,m):\n",
    "    w=np.zeros((n+1,m+1))\n",
    "    for i in range(n+1):\n",
    "        w[i,0] = gxc(x[i]) #left boundary\n",
    "        w[i,m] = gxd(x[i]) #right boundary\n",
    "    for j in range(m+1):\n",
    "        w[0,j] = gya(y[j]) #lower boundary\n",
    "        w[n,j] = gyb(y[j]) #upper boundary\n",
    "    return w\n"
   ]
  },
  {
   "cell_type": "code",
   "execution_count": 31,
   "metadata": {},
   "outputs": [
    {
     "name": "stdout",
     "output_type": "stream",
     "text": [
      "[0.         0.33333333 0.66666667 1.         1.33333333 1.66666667\n",
      " 2.        ]\n",
      "[[0.   0.   0.   0.   0.   0.   0.  ]\n",
      " [0.33 0.   0.   0.   0.   0.   0.  ]\n",
      " [0.67 0.   0.   0.   0.   0.   0.  ]\n",
      " [1.   0.   0.   0.   0.   0.   0.  ]\n",
      " [1.33 0.   0.   0.   0.   0.   0.  ]\n",
      " [1.67 0.   0.   0.   0.   0.   0.  ]\n",
      " [2.   0.   0.   0.   0.   0.   0.  ]]\n"
     ]
    }
   ],
   "source": [
    "a,b,c,d=0,2,0,1\n",
    "n,m=6,6\n",
    "TOL=10**(-10)\n",
    "N= 50\n",
    "def gxc(x):\n",
    "    return x\n",
    "w=np.zeros((n+1,m+1))\n",
    "x=np.linspace(a,b,n+1)\n",
    "print(x)\n",
    "for i in range(n+1):\n",
    "    w[i,0] = gxc(x[i]) #left boundary\n",
    "\n",
    "print(np.array_str(w, precision=2, suppress_small=True))\n"
   ]
  },
  {
   "cell_type": "code",
   "execution_count": 32,
   "metadata": {},
   "outputs": [
    {
     "name": "stdout",
     "output_type": "stream",
     "text": [
      "[[0.   0.33 0.67 1.   1.33 1.67 2.  ]\n",
      " [0.   0.   0.   0.   0.   0.   2.36]\n",
      " [0.   0.   0.   0.   0.   0.   2.79]\n",
      " [0.   0.   0.   0.   0.   0.   3.3 ]\n",
      " [0.   0.   0.   0.   0.   0.   3.9 ]\n",
      " [0.   0.   0.   0.   0.   0.   4.6 ]\n",
      " [0.   0.91 1.81 2.72 3.62 4.53 5.44]]\n"
     ]
    },
    {
     "data": {
      "image/png": "[encoded data removed]",
      "text/plain": [
       "<Figure size 640x480 with 2 Axes>"
      ]
     },
     "metadata": {},
     "output_type": "display_data"
    }
   ],
   "source": [
    "a,b,c,d=0,2,0,1\n",
    "n,m=6,6\n",
    "TOL=10**(-10)\n",
    "N= 50\n",
    "\n",
    "x,y,h,k = grid(a,b,c,d,n,m)\n",
    "\n",
    "def f(x,y):\n",
    "    return x*np.e**y\n",
    "\n",
    "# Boundary functions\n",
    "def gxc(x):\n",
    "    return x\n",
    "\n",
    "def gxd(x):\n",
    "    return np.e*x\n",
    "\n",
    "def gya(y):\n",
    "    return 0\n",
    "\n",
    "def gyb(y):\n",
    "    return 2*np.e**y\n",
    "\n",
    "w=np.zeros((n+1,m+1))\n",
    "for i in range(0,n+1):\n",
    "        w[i,0] = gxc(x[i]) #left boundary\n",
    "\n",
    "#print(np.array_str(w, precision=2, suppress_small=True))\n",
    "\n",
    "\n",
    "w = boundary(x, y, gxc, gxd, gya, gyb, n, m)\n",
    "w=np.transpose(w)\n",
    "print(np.array_str(w, precision=2, suppress_small=True))\n",
    "\n",
    "\n",
    "# Plotting\n",
    "X, Y = np.meshgrid(x, y)\n",
    "plt.contourf(X, Y, w, cmap='viridis')\n",
    "plt.colorbar()\n",
    "plt.xlabel('x')\n",
    "plt.ylabel('y')\n",
    "plt.title('Boundary Conditions')\n",
    "plt.show()"
   ]
  }
 ],
 "metadata": {
  "kernelspec": {
   "display_name": "Python 3",
   "language": "python",
   "name": "python3"
  },
  "language_info": {
   "codemirror_mode": {
    "name": "ipython",
    "version": 3
   },
   "file_extension": ".py",
   "mimetype": "text/x-python",
   "name": "python",
   "nbconvert_exporter": "python",
   "pygments_lexer": "ipython3",
   "version": "3.10.10"
  }
 },
 "nbformat": 4,
 "nbformat_minor": 2
}
