{
 "cells": [
  {
   "cell_type": "code",
   "execution_count": 4,
   "metadata": {},
   "outputs": [],
   "source": [
    "import numpy as np\n",
    "import matplotlib.pyplot as plt\n",
    "from matplotlib.animation import FuncAnimation"
   ]
  },
  {
   "cell_type": "markdown",
   "metadata": {},
   "source": [
    "# Root finding Methods\n",
    "\n",
    "## Bisection:"
   ]
  },
  {
   "cell_type": "code",
   "execution_count": 5,
   "metadata": {},
   "outputs": [
    {
     "name": "stdout",
     "output_type": "stream",
     "text": [
      "15.287712379549449\n",
      "16 1.36517333984375\n"
     ]
    },
    {
     "data": {
      "text/plain": [
       "1.36517333984375"
      ]
     },
     "execution_count": 5,
     "metadata": {},
     "output_type": "execute_result"
    }
   ],
   "source": [
    "def f(x):\n",
    "    return x**3 +4*x**2 -10\n",
    "def error_bound(a,b,err):\n",
    "    n=np.log((b-a)/err) / np.log(2)\n",
    "    print(n)\n",
    "    return int(np.ceil(n))\n",
    "\n",
    "\n",
    "def bisection(f, a, b, tol):\n",
    "    i=1\n",
    "    #FA = f\n",
    "    n = error_bound(a, b, tol)\n",
    "    while i <= n:\n",
    "        p = a + ((b-a)/2)\n",
    "        if f(p) == 0 or (b-a)/2 < tol:\n",
    "            print(i, p)\n",
    "            return p\n",
    "        if f(a)*f(p) > 0:\n",
    "            a = p\n",
    "        else:\n",
    "            b=p\n",
    "        i+=1\n",
    "    return\n",
    "\n",
    "bisection(f,-1,3,0.0001)\n"
   ]
  },
  {
   "cell_type": "code",
   "execution_count": 6,
   "metadata": {},
   "outputs": [
    {
     "name": "stdout",
     "output_type": "stream",
     "text": [
      "15 16\n",
      "2.1163330078125\n"
     ]
    },
    {
     "data": {
      "text/plain": [
       "2.1163330078125"
      ]
     },
     "execution_count": 6,
     "metadata": {},
     "output_type": "execute_result"
    }
   ],
   "source": [
    "def f(x):\n",
    "    return x**3 -x**2 -5\n",
    "\n",
    "def validate_interval(f,x0,x1):\n",
    "    return f(x0)*f(x1) < 0\n",
    "\n",
    "def error_bound(a,b,err):\n",
    "    n=np.log((b-a)/err) / np.log(2)\n",
    "    return int(np.ceil(n))\n",
    "\n",
    "def bisection(f, interval, tol):\n",
    "    x0, x1 = interval[0], interval[1] #extract interval \n",
    "    if not validate_interval(f, x0, x1): #check interval can be solved for roots\n",
    "        return\n",
    "\n",
    "    n = error_bound(x0, x1, tol)\n",
    "    counter = 1\n",
    "    while True:\n",
    "        root_approx = x0 + ((x1-x0)/2)\n",
    "        y = f(root_approx)\n",
    "        if -tol < y < tol:\n",
    "            print(counter, n)\n",
    "            print(root_approx)\n",
    "            return root_approx\n",
    "        if validate_interval(f,x0,root_approx):\n",
    "            x1 = root_approx\n",
    "        else:\n",
    "            x0 = root_approx\n",
    "        counter += 1\n",
    "\n",
    "\n",
    "\n",
    "bisection(f,[-1,3], 0.0001) "
   ]
  }
 ],
 "metadata": {
  "kernelspec": {
   "display_name": "venv",
   "language": "python",
   "name": "python3"
  },
  "language_info": {
   "codemirror_mode": {
    "name": "ipython",
    "version": 3
   },
   "file_extension": ".py",
   "mimetype": "text/x-python",
   "name": "python",
   "nbconvert_exporter": "python",
   "pygments_lexer": "ipython3",
   "version": "3.10.12"
  }
 },
 "nbformat": 4,
 "nbformat_minor": 2
}
