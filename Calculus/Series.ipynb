{
 "cells": [
  {
   "cell_type": "markdown",
   "metadata": {},
   "source": [
    "## Form of a Power Series\n",
    "\n",
    "A series of the form \n",
    "$$\n",
    "\\sum_{n=0}^{\\infty} c_n x^n = c_0 + c_1 x + c_2 x^2 + \\cdots,\n",
    "$$\n",
    "where $ x $ is a variable and the coefficients $ c_n $ are constants, is known as a \\textbf{power series}. The series \n",
    "$$\n",
    "1 + x + x^2 + \\cdots = \\sum_{n=0}^{\\infty} x^n\n",
    "$$\n",
    "is an example of a power series. Since this series is a geometric series with ratio $ r = x $, we know that it converges if $ |x| < 1 $ and diverges if $ |x| \\geq 1 $.\n",
    "\n",
    "## Definition\n",
    "A series of the form \n",
    "$$\n",
    "\\sum_{n=0}^{\\infty} c_n x^n = c_0 + c_1 x + c_2 x^2 + \\cdots\n",
    "$$\n",
    "is a power series centered at $ x = 0 $. A series of the form \n",
    "$$\n",
    "\\sum_{n=0}^{\\infty} c_n (x - a)^n = c_0 + c_1 (x - a) + c_2 (x - a)^2 + \\cdots \n",
    "$$\n",
    "is a power series centered at $ x = a $.\n",
    "\n",
    "## Geometric Series\n",
    "$$\n",
    "1 + x + x^2 + x^3 + \\cdots = \\sum^{\\infty}_{n=0} x^n\n",
    "$$\n",
    "$$\n",
    "1 + x + x^2 + x^3 + \\cdots = \\frac{1}{1 - x} \\text{ for } |x| < 1\n",
    "$$\n",
    "\n"
   ]
  },
  {
   "cell_type": "code",
   "execution_count": 6,
   "metadata": {},
   "outputs": [
    {
     "name": "stdout",
     "output_type": "stream",
     "text": [
      "1.998046875\n",
      "2.0\n"
     ]
    }
   ],
   "source": [
    "def GeometricSum(x,n):\n",
    "    sum = 0\n",
    "    for i in range(n):\n",
    "        sum += x**i\n",
    "    return sum\n",
    "\n",
    "def exact(x):\n",
    "    return 1/(1-x)\n",
    "\n",
    "# compare\n",
    "x = 0.5\n",
    "n = 10\n",
    "print(GeometricSum(x,n))\n",
    "print(exact(x))\n",
    "\n"
   ]
  },
  {
   "cell_type": "code",
   "execution_count": null,
   "metadata": {},
   "outputs": [],
   "source": []
  }
 ],
 "metadata": {
  "kernelspec": {
   "display_name": "venv",
   "language": "python",
   "name": "python3"
  },
  "language_info": {
   "codemirror_mode": {
    "name": "ipython",
    "version": 3
   },
   "file_extension": ".py",
   "mimetype": "text/x-python",
   "name": "python",
   "nbconvert_exporter": "python",
   "pygments_lexer": "ipython3",
   "version": "3.10.12"
  }
 },
 "nbformat": 4,
 "nbformat_minor": 2
}
