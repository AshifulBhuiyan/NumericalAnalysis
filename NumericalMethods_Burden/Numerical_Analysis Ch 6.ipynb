{
 "cells": [
  {
   "cell_type": "code",
   "execution_count": 156,
   "metadata": {},
   "outputs": [],
   "source": [
    "import numpy as np\n"
   ]
  },
  {
   "attachments": {},
   "cell_type": "markdown",
   "metadata": {},
   "source": [
    "# Direct Methods for solving Linear Systems\n",
    "\n",
    "### Gaussian Elimination with Backward Substitution:\n"
   ]
  },
  {
   "cell_type": "code",
   "execution_count": 157,
   "metadata": {},
   "outputs": [],
   "source": [
    "\n",
    "def gauss(n):\n",
    "    A=np.random.rand(n,n+1)\n",
    "    A=np.floor(A*10)\n",
    "    x=np.zeros(n)\n",
    "    print(A)\n",
    "    for i in range(n):\n",
    "        for j in range(i+1, n):\n",
    "            m = A[j,i]/A[i,i]\n",
    "            for k in range(n+1):\n",
    "                A[j,k] = A[j,k]-m*A[i,k]\n",
    "        print(A)\n",
    "    x[n-1] = A[n-1,n]/A[n-1,n-1]\n",
    "\n",
    "    for i in reversed(range(-1,n-2)):\n",
    "        x[i]=A[i,n]\n",
    "        for j in range(i+1,n):\n",
    "            x[i] = x[i] - A[i,j]*x[j]\n",
    "        \n",
    "        x[i] = x[i]/A[i,i]\n",
    "\n",
    "\n",
    "\n",
    "    print(x)\n",
    "\n"
   ]
  },
  {
   "cell_type": "code",
   "execution_count": 158,
   "metadata": {},
   "outputs": [
    {
     "name": "stdout",
     "output_type": "stream",
     "text": [
      "[[7. 5. 4.]\n",
      " [5. 0. 3.]]\n",
      "[[ 7.          5.          4.        ]\n",
      " [ 0.         -3.57142857  0.14285714]]\n",
      "[[ 7.          5.          4.        ]\n",
      " [ 0.         -3.57142857  0.14285714]]\n",
      "[0.         4.57142857]\n"
     ]
    }
   ],
   "source": [
    "gauss(2)"
   ]
  }
 ],
 "metadata": {
  "kernelspec": {
   "display_name": "Python 3",
   "language": "python",
   "name": "python3"
  },
  "language_info": {
   "codemirror_mode": {
    "name": "ipython",
    "version": 3
   },
   "file_extension": ".py",
   "mimetype": "text/x-python",
   "name": "python",
   "nbconvert_exporter": "python",
   "pygments_lexer": "ipython3",
   "version": "3.10.10"
  },
  "orig_nbformat": 4
 },
 "nbformat": 4,
 "nbformat_minor": 2
}
