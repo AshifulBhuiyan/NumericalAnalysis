{
 "cells": [
  {
   "cell_type": "code",
   "execution_count": 372,
   "metadata": {},
   "outputs": [],
   "source": [
    "import numpy as np\n",
    "import matplotlib\n",
    "import matplotlib.pyplot as plt\n",
    "%matplotlib inline"
   ]
  },
  {
   "attachments": {},
   "cell_type": "markdown",
   "metadata": {},
   "source": [
    "# Boundary-Value Problems for ODE\n",
    "- Differential equations with conditions imposed at different points\n",
    "- These are second-order equations with two boundary values\n",
    "- the two-point boundary-value problem involve  a second-order differential equation of the form:\n",
    "\n",
    "$$\n",
    "y'' = f(x,y,y'), \\quad \\text{for } a \\leq x \\leq b,\n",
    "$$\n",
    "together with the boundary conditions:\n",
    "$$\n",
    "y(a)= \\alpha \\quad \\text{and} \\quad y(b)= \\beta\n",
    "$$\n",
    "\n",
    "### 11.1 The Linear Shooting Method\n",
    "Linear BVP:\n",
    "$y'' = f(x,y,y')$ is linear when $p(x), q(x),$ and $r(x)$ exist with\n",
    "$$\n",
    "f(x,y,y') = p(x)y' + q(x)y + r(x)\n",
    "$$\n",
    "\n",
    "The shooting method for linear equations is based on the replacement of the linear BVP by the two initial IVP\n",
    "\n",
    "$$\n",
    "y''= p(x)y' + q(x)y + r(x), \\quad y(a) = \\alpha, \\text{and} \\quad y'(a) = 0 \\quad (1) \n",
    "\\\\\n",
    "y'' =  p(x)y' + q(x)y, \\quad y(a) = 0 , \\text{and} \\quad y'(a)=1 \\quad \\quad \\quad \\quad (2)\n",
    "$$\n",
    "\n",
    "\n",
    "Let $y_1$ denote sol to (1) and $y_2$ denote sol to (2)\n",
    "\n",
    "Define:\n",
    "$$\n",
    "y(x) = y_1(x) + \\frac{\\beta - y_1(b)}{y_2(b)}y_2(x)\n",
    "\\\\\n",
    "y'(x) = y_1'(x) + \\frac{\\beta - y_1(b)}{y_2(b)}y_2'(x)\n",
    "\\\\\n",
    "y''(x) = y_1'(x) + \\frac{\\beta - y_1(b)}{y_2(b)}y_2''(x)\n",
    "$$\n",
    "Subbing this into the equation we get:\n",
    "$$\n",
    "y'' = p(x)y'_1 + q(x) y_1 + r(x) + \\frac{\\beta - y_1(b)}{y_2(b)}(p(x)y'_2 + q(x)y_2) \\\\\n",
    "= py' + qy +r\n",
    "$$\n",
    "where\n",
    "$$\n",
    "y(a) = y_1(a) \\frac{\\beta - y_1(b)}{y_2(b)}y_2(a) = \\alpha + 0\\\\\n",
    "y(b) = y_1(b) + \\beta - y_1(b) = \\beta\n",
    "$$\n",
    "\n"
   ]
  },
  {
   "cell_type": "code",
   "execution_count": 373,
   "metadata": {},
   "outputs": [],
   "source": [
    "#Linear Shooting\n",
    "def LinearShooting(p,q,r, a, b, alpha, beta, N):\n",
    "    h = (b-a)/N\n",
    "    t=np.arange(a,b+h,h)\n",
    "    u=np.zeros((2,len(t)))\n",
    "    v=np.zeros((2,len(t)))\n",
    "    w=np.zeros(2)\n",
    "    \n",
    "    u[0,0]=alpha\n",
    "    u[1,0]=0 \n",
    "    v[0,0]=0 \n",
    "    v[1,0]=1\n",
    "\n",
    "\n",
    "    k = np.zeros((4,2))\n",
    "    kp = np.zeros((4,2))\n",
    "    for i in range(1,N+1):\n",
    "        k[0,0] = h*u[1,i-1]\n",
    "        k[0,1] = h*(p(t[i-1])*u[1,i-1] + q(t[i-1])*u[0,i-1] + r(t[i-1]))\n",
    "        k[1,0] = h*(u[1,i-1] + k[0,1]/2)\n",
    "        k[1,1] = h*(p(t[i-1]+h/2)*(u[1,i-1]+k[0,1]/2)+ q(t[i-1]+h/2)*(u[0,i-1] + k[0,0]/2) + r(t[i-1]+h/2))\n",
    "        k[2,0] = h*(u[1,i-1]+k[1,1]/2)\n",
    "        k[2,1] = h*(p(t[i-1]+h/2)*(u[1,i-1]+k[1,1]/2)+ q(t[i-1]+h/2)*(u[0,i-1] + k[1,0]/2) + r(t[i-1]+h/2))\n",
    "        k[3,0] = h*(u[1,i-1]+k[2,1])\n",
    "        k[3,1] = h*(p(t[i-1]+h)*(u[1,i-1]+k[2,1])+ q(t[i-1]+h)*(u[0,i-1] + k[2,0]) + r(t[i-1]+h))\n",
    "        \n",
    "        u[0,i] = u[0,i-1] + (k[0,0] + 2*k[1,0] + 2*k[2,0] + k[3,0])/6\n",
    "        u[1,i] = u[1,i-1] + (k[0,1] + 2*k[1,1] + 2*k[2,1] + k[3,1])/6\n",
    "\n",
    "        kp[0,0] = h*v[1,i-1]\n",
    "        kp[0,1] = h*(p(t[i-1])*v[1,i-1] + q(t[i-1])*v[0,i-1])\n",
    "        kp[1,0] = h*(v[1,i-1] + kp[0,1]/2)\n",
    "        kp[1,1] = h*(p(t[i-1]+h/2)*(v[1,i-1]+kp[0,1]/2)+ q(t[i-1]+h/2)*(v[0,i-1] + kp[0,0]/2))\n",
    "        kp[2,0] = h*(v[1,i-1]+kp[1,1]/2)\n",
    "        kp[2,1] = h*(p(t[i-1]+h/2)*(v[1,i-1]+kp[1,1]/2)+ q(t[i-1]+h/2)*(v[0,i-1] + kp[1,0]/2))\n",
    "        kp[3,0] = h*(v[1,i-1]+kp[2,1])\n",
    "        kp[3,1] = h*(p(t[i-1]+h)*(v[1,i-1]+kp[2,1])+ q(t[i-1]+h)*(v[0,i-1] + kp[2,0]))\n",
    "        \n",
    "        v[0,i] = v[0,i-1] + (kp[0,0] + 2*kp[1,0] + 2*kp[2,0] + kp[3,0])/6\n",
    "        v[1,i] = v[1,i-1] + (kp[0,1] + 2*kp[1,1] + 2*kp[2,1] + kp[3,1])/6\n",
    "\n",
    "    W = np.zeros((len(t),4))\n",
    "    W[0,0] = alpha\n",
    "    W[0,1] = (beta-u[0,N])/(v[0,N])\n",
    "    \n",
    "\n",
    "    for i in range(1,N+2):\n",
    "        W[i-1,0] = u[0,i-1] + w[1] * v[0,i-1]\n",
    "        W[i-1,1] = v[0,i-1]\n",
    "        W[i-1,2] = u[1,i-1] + w[1] * v[1,i-1]\n",
    "        W[i-1,3] = u[0,i-1] + ((2-u[0,N])/(v[0,N]))*v[0,i-1]\n",
    "    sol=np.column_stack((t,W))\n",
    "  \n",
    "    return sol"
   ]
  },
  {
   "cell_type": "code",
   "execution_count": 387,
   "metadata": {},
   "outputs": [
    {
     "data": {
      "text/plain": [
       "array([[1.        , 1.        , 0.        , 0.        , 1.        ],\n",
       "       [1.1       , 1.00896058, 0.09117986, 0.16978958, 1.09262916],\n",
       "       [1.2       , 1.03245472, 0.16851175, 0.29393896, 1.18708471],\n",
       "       [1.3       , 1.06674375, 0.23608704, 0.38765183, 1.28338227],\n",
       "       [1.4       , 1.10928795, 0.29659067, 0.46027852, 1.38144589],\n",
       "       [1.5       , 1.1583    , 0.35184379, 0.51781759, 1.48115939],\n",
       "       [1.6       , 1.21248371, 0.40311695, 0.56425894, 1.58239245],\n",
       "       [1.7       , 1.27087454, 0.4513184 , 0.6023407 , 1.68501396],\n",
       "       [1.8       , 1.33273851, 0.49711137, 0.63399389, 1.78889854],\n",
       "       [1.9       , 1.39750618, 0.54098928, 0.66061333, 1.89392951],\n",
       "       [2.        , 1.46472815, 0.58332538, 0.68322815, 2.        ]])"
      ]
     },
     "execution_count": 387,
     "metadata": {},
     "output_type": "execute_result"
    }
   ],
   "source": [
    "def f(x,y, yp):\n",
    "    return -(2/x)*yp + (2/x**2)*y + np.sin(np.ln(x))/x**2\n",
    "def p(x):\n",
    "    return -(2/x)\n",
    "def q(x):\n",
    "    return (2/x**2)\n",
    "def r(x):\n",
    "    return np.sin(np.log(x))/x**2\n",
    "\n",
    "sol=LinearShooting(p,q,r,1,2,1,2,10)\n",
    "sol"
   ]
  },
  {
   "cell_type": "code",
   "execution_count": 410,
   "metadata": {},
   "outputs": [],
   "source": [
    "def Exact(x):\n",
    "    return ((11/10)-(1/70)*(8-12*np.sin(np.log(2))-4*np.cos(np.log(2))))*x + (1/70)*(8-12*np.sin(np.log(2))-4*np.cos(np.log(2)))/x**2 - (3/10)*np.sin(np.log(x)) - (1/10)*np.cos(np.log(x))"
   ]
  },
  {
   "cell_type": "code",
   "execution_count": 411,
   "metadata": {},
   "outputs": [
    {
     "data": {
      "text/plain": [
       "array([1.        , 1.0926293 , 1.18708484, 1.28338236, 1.38144595,\n",
       "       1.48115942, 1.58239246, 1.68501396, 1.78889853, 1.89392951,\n",
       "       2.        ])"
      ]
     },
     "execution_count": 411,
     "metadata": {},
     "output_type": "execute_result"
    },
    {
     "data": {
      "image/png": "[encoded data removed]",
      "text/plain": [
       "<Figure size 640x480 with 1 Axes>"
      ]
     },
     "metadata": {},
     "output_type": "display_data"
    }
   ],
   "source": [
    "sol[:,0]\n",
    "y=Exact(sol[:,0])\n",
    "plt.plot(sol[:,0],sol[:,4],color='blue')\n",
    "plt.plot(sol[:,0],y,color='orange')\n",
    "y\n"
   ]
  },
  {
   "cell_type": "code",
   "execution_count": null,
   "metadata": {},
   "outputs": [],
   "source": []
  }
 ],
 "metadata": {
  "kernelspec": {
   "display_name": "Python 3",
   "language": "python",
   "name": "python3"
  },
  "language_info": {
   "codemirror_mode": {
    "name": "ipython",
    "version": 3
   },
   "file_extension": ".py",
   "mimetype": "text/x-python",
   "name": "python",
   "nbconvert_exporter": "python",
   "pygments_lexer": "ipython3",
   "version": "3.10.10"
  },
  "orig_nbformat": 4
 },
 "nbformat": 4,
 "nbformat_minor": 2
}
