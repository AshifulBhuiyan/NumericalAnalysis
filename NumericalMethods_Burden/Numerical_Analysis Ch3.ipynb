{
 "cells": [
  {
   "cell_type": "code",
   "execution_count": 2,
   "metadata": {},
   "outputs": [],
   "source": [
    "import numpy as np"
   ]
  },
  {
   "attachments": {},
   "cell_type": "markdown",
   "metadata": {},
   "source": [
    "# Interpolation and Polynomial Approximation\n"
   ]
  },
  {
   "cell_type": "code",
   "execution_count": 3,
   "metadata": {},
   "outputs": [],
   "source": [
    "#Neville's Iterated Interpolation\n",
    "def NevilleII(x, xn, f, Q, n):\n",
    "    for i in range(n):\n",
    "        for j in range(i):\n",
    "            Q[i,j] = ((x-xn[i-j])*Q[i,j-1]-(x-xn[i]*Q[i-1,j-1]))/(xn[i]-xn[i-j])\n",
    "    return Q[n,n]\n",
    "\n",
    "\n"
   ]
  },
  {
   "cell_type": "code",
   "execution_count": 4,
   "metadata": {},
   "outputs": [],
   "source": [
    "def Neville(xData,yData,x):\n",
    "    m = len(xData)\n",
    "    y = yData.copy()\n",
    "    for k in range(1,m):\n",
    "        y[0:m-k] = (xData[k:m]-x)*y[0:m-k]+(x-xData[0:m-k])*y[1:m-k+1]\n",
    "        y[0:m-k] = y[0:m-k]/(xData[k:m]-xData[0:m-k])\n",
    "    return y[0]"
   ]
  },
  {
   "cell_type": "code",
   "execution_count": 5,
   "metadata": {},
   "outputs": [
    {
     "data": {
      "text/plain": [
       "np.float64(17.877142500000005)"
      ]
     },
     "execution_count": 5,
     "metadata": {},
     "output_type": "execute_result"
    }
   ],
   "source": [
    "\n",
    "np.ndarray(shape = (4,4), dtype=float)\n",
    "xD = np.array([8.1, 8.3, 8.6, 8.7])\n",
    "\n",
    "yD = np.array([16.94410, 17.56492, 18.50515, 18.82091])\n",
    "x = 8.4\n",
    "\n",
    "Neville(xD, yD, 8.4)"
   ]
  },
  {
   "attachments": {},
   "cell_type": "markdown",
   "metadata": {},
   "source": [
    "test"
   ]
  }
 ],
 "metadata": {
  "kernelspec": {
   "display_name": "venv",
   "language": "python",
   "name": "python3"
  },
  "language_info": {
   "codemirror_mode": {
    "name": "ipython",
    "version": 3
   },
   "file_extension": ".py",
   "mimetype": "text/x-python",
   "name": "python",
   "nbconvert_exporter": "python",
   "pygments_lexer": "ipython3",
   "version": "3.10.12"
  },
  "orig_nbformat": 4
 },
 "nbformat": 4,
 "nbformat_minor": 2
}
