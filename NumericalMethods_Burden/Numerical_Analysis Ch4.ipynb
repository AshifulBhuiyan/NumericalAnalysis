{
 "cells": [
  {
   "attachments": {},
   "cell_type": "markdown",
   "metadata": {},
   "source": [
    "# Differentiation and Integration\n",
    "Composite Simpsons Rule:\n"
   ]
  },
  {
   "cell_type": "code",
   "execution_count": 412,
   "metadata": {},
   "outputs": [],
   "source": [
    "import numpy as np\n",
    "def f(x):\n",
    "    return np.sqrt(1-(x)**2) #semicircle\n",
    "\n",
    "def g(x):\n",
    "    return (x**4*(1-x)**4/(1+x**2))\n",
    "\n",
    "#composite simpsons rule\n",
    "def CSR(f, a, b, N):\n",
    "    h = (b-a)/N\n",
    "    XI0 = f(a) + f(b)\n",
    "    XI1 = 0\n",
    "    XI2 = 0\n",
    "    for i in range(N-1):\n",
    "        X = a+i*h\n",
    "        if i%2 == 0:\n",
    "            XI2 = XI2 +f(X)\n",
    "        else:\n",
    "            XI1 = XI1 + f(X)\n",
    "    XI = h*(XI0 + 2 * XI2 + 4 * XI1)/3\n",
    "    return XI \n"
   ]
  },
  {
   "cell_type": "code",
   "execution_count": 413,
   "metadata": {},
   "outputs": [
    {
     "data": {
      "text/plain": [
       "3.1405233503531225"
      ]
     },
     "execution_count": 413,
     "metadata": {},
     "output_type": "execute_result"
    }
   ],
   "source": [
    "2*CSR(f, -1,1, 500)"
   ]
  },
  {
   "cell_type": "code",
   "execution_count": 414,
   "metadata": {},
   "outputs": [
    {
     "data": {
      "text/plain": [
       "True"
      ]
     },
     "execution_count": 414,
     "metadata": {},
     "output_type": "execute_result"
    }
   ],
   "source": [
    "CSR(g, 0,1, 5000)+np.pi==22/7"
   ]
  },
  {
   "attachments": {},
   "cell_type": "markdown",
   "metadata": {},
   "source": [
    "Trying my best with Numerical Differentiation:\n",
    "$$\n",
    "f'(x_0) = \\lim_{h \\rightarrow 0} \\frac{f(x_0 +h) - f(x_0)}{h}\n",
    "$$\n",
    "\n",
    "To approximate $f'(x_0)$ , suppose first that $x_0 \\in (a,b),$ where $ f \\in C^2 \\left[ a,b \\right] $ and that $x_1 = x_0 +h$ for some $h \\neq 0$ that is sufficiently small to ensure that $x_1 \\in \\left[ a,b \\right]$.\n",
    "\n",
    "We can construct the first Lagrange Polynomial $P_{0,1}(x)$ for $f$ determined by $x_0$ and $x_1$ with the error term:\n",
    "\n",
    "$$\n",
    "f(x) = P_{0,1}(x) + \\frac{(x-x_0)(x-x_1)}{2!}f''(\\xi (x)) \\\\\n",
    "= \\frac{f(x_0)(x-x_0-h)}{-h} + \\frac{f(x_0+h)(x-x_0)}{h} + \\frac{(x-x_0)(x-x_1)}{2!}f''(\\xi (x))\n",
    "$$\n",
    "Differentiate:\n",
    "\n",
    "\n",
    "$$\n",
    "f'(x) = \\frac{f(x_0 +h)-f(x_0)}{h} + D_x \\left[ \\frac{f(x_0+h)(x-x_0)}{h} + \\frac{(x-x_0)(x-x_1)}{2!}f''(\\xi (x)) \\right]\n",
    "$$\n",
    "\n",
    "Ignoring the error terms:\n",
    "\n",
    "$$\n",
    "f'(x) \\approx \\frac{f(x_0 +h)-f(x_0)}{h}\n",
    "$$\n",
    "\n",
    "Little info on $D_x f''(\\xi (x))$, so truncation error can't be estimated. But when $x = x_0$ , $D_x f''(\\xi (x))=0$, so we get a simple formula:\n",
    "\n",
    "$$\n",
    "f'(x_0) = \\frac{f(x_0 +h)-f(x_0)}{h} - \\frac{h}{2} f''(\\xi)\n",
    "$$"
   ]
  },
  {
   "attachments": {},
   "cell_type": "markdown",
   "metadata": {},
   "source": [
    "Error bound: $M|h|/2$, where $M$ is a bound on $|f''(X)|$ for $x \\in [x_0, x_0+h]$\n",
    "- **Forward-difference** if $h>0$ \n",
    "- **Backward-difference** if $h<0$"
   ]
  },
  {
   "cell_type": "code",
   "execution_count": 415,
   "metadata": {},
   "outputs": [],
   "source": [
    "def f(x):\n",
    "    return np.log(x)\n",
    "def fwdDiff(f, x0, h):\n",
    "    return (f(x0+h) - f(x0))/h\n",
    "\n",
    "def backDiff(f,x0, h):\n",
    "    return (-f(x0-h) + f(x0))/h\n",
    "\n",
    "def threePtMidPt(f,x0,h):\n",
    "    return (fwdDiff(f,x0,h)+backDiff(f,x0,h))/2\n",
    "\n",
    "def threePtEndPt(f,x0,h):\n",
    "    return (-3*f(x0) +4*f(x0+h) - f(x0+2*h))/(2*h)"
   ]
  },
  {
   "cell_type": "code",
   "execution_count": 416,
   "metadata": {},
   "outputs": [
    {
     "data": {
      "text/plain": [
       "(0.555544265793817, 0.5555612712535352)"
      ]
     },
     "execution_count": 416,
     "metadata": {},
     "output_type": "execute_result"
    }
   ],
   "source": [
    "threePtEndPt(f, 1.8, 0.01), threePtMidPt(f, 1.8, 0.01)"
   ]
  },
  {
   "cell_type": "code",
   "execution_count": 417,
   "metadata": {},
   "outputs": [],
   "source": [
    "# 5Pt Mid and End Point Formula:\n",
    "def f(x):\n",
    "    return np.log(x)\n",
    "\n",
    "def fivePtMidPt(f, x0, h):\n",
    "    return (f(x0-2*h)-8*f(x0-h) +8*f(x0+h) - f(x0+2*h))/(12*h)\n",
    "\n",
    "def fivePtEndPt(f, x0, h):\n",
    "    return (-25*f(x0)+48*f(x0+h) -36*f(x0+2*h) +16* f(x0+3*h)- 3*f(x0+4*h))/(12*h)"
   ]
  },
  {
   "cell_type": "code",
   "execution_count": 418,
   "metadata": {},
   "outputs": [
    {
     "data": {
      "text/plain": [
       "(0.5555555531293407, 0.5555555551321312, 0.5540180375615322)"
      ]
     },
     "execution_count": 418,
     "metadata": {},
     "output_type": "execute_result"
    }
   ],
   "source": [
    "fivePtEndPt(f, 1.8, 0.01), fivePtMidPt(f, 1.8, 0.01), fwdDiff(f, 1.8, 0.01)"
   ]
  },
  {
   "cell_type": "code",
   "execution_count": 419,
   "metadata": {},
   "outputs": [],
   "source": [
    "#2nd derivative Midpt formula\n",
    "def secondDerivativeMidPt(f, x0, h):\n",
    "    return (f(x0-h) -2* f(x0)+f(x0+h))/h**2\n"
   ]
  },
  {
   "attachments": {},
   "cell_type": "markdown",
   "metadata": {},
   "source": [
    "### 4.2 Richardson's Extrapolation\n",
    "- high-accuracy results while using low-order formulas\n",
    "- extrapolation applied whenever it is known that an approximation technique has an error term with a predictable form\n",
    "    - suppose we have formula $N_1(h)$ that approximates an unknown constant $M$ and that the truncation error involved with the approx has form:\n",
    "\n",
    "$$\n",
    "M-N_1(h) = K_1h+K_2 h^2 + \\dots + K_nh^n\n",
    "$$\n",
    "for some collection of (unknown) constants $K_n$\n",
    "\n",
    "The truncation error is $O(h)$ so unless there was alarge variation in magnitude among the constants $K_n$ , we have:\n",
    "\n",
    "$$\n",
    "M-N_1(0.1) \\approx 0.1K_1,  \\quad \\text{i.e} \\quad M-N_1(h) \\approx hK_1\n",
    "$$\n",
    "\n",
    "To see how to generate extrapolation formulas, consider $O(h)$ for approximating $M$:\n",
    "\n",
    "$$\n",
    "M=N_1(h) + K_1h+K_2 h^2 + \\dots + K_nh^n \\quad (4.10)\n",
    "$$\n",
    "\n",
    "If we replace parameter $h$ by half its value: We get a second $O(h)$ approximation formula:\n",
    "\n",
    "$$\n",
    "M = N_1\\left(\\frac{h}{2}\\right)+ K_1\\left(\\frac{h}{2}\\right)+K_2 \\left(\\frac{h^2}{4}\\right) + \\dots + K_n\\left(\\frac{h^n}{2^n}\\right) \\quad (4.11)\n",
    "$$\n"
   ]
  },
  {
   "attachments": {},
   "cell_type": "markdown",
   "metadata": {},
   "source": [
    "Subtracting eq 4.10 from twice Eq 4.11 eliminates the term involving $K_1$ and gives:\n",
    "$$\n",
    "2(4.11) - (4.10) = \\\\\n",
    "2M - M= M=N_1(\\frac{h}{2})  + \\dots + K_n\\left(\\frac{h^n}{(2^{n-1})}-h^n\\right)\n",
    "$$\n",
    "Define \n",
    "\n",
    "$$\n",
    "N_2(h) = N_1 \\left(\\frac{h}{2}\\right) + \\left[ N_1\\left( \\frac{h}{2} \\right) - N_1(h) \\right]\n",
    "$$\n",
    "\n",
    "Then\n",
    "\n",
    "$$\n",
    "M = N_2(h) - \\frac{K_2}{2}h^2 - \\dots - \\frac{nK_n}{2^{n-1}} h^n\n",
    "$$\n",
    "\n",
    "### Ex 1:\n",
    "Use fwd diff method with $h=0.1$ and $h=0.05$ to find approximations to $f'(1.8) \\text{for} f(x) = ln(x)$ Assume formula has truncation error $O(h)$ and use extrapolation on the values to see if this  results in a better approx\n",
    "\n",
    "### sol."
   ]
  },
  {
   "cell_type": "code",
   "execution_count": 420,
   "metadata": {},
   "outputs": [
    {
     "data": {
      "text/plain": [
       "0.5552867548218199"
      ]
     },
     "execution_count": 420,
     "metadata": {},
     "output_type": "execute_result"
    }
   ],
   "source": [
    "N1h=fwdDiff(f, 1.8, 0.1)\n",
    "N1h2 = fwdDiff(f, 1.8, 0.05)\n",
    "N2 = N1h2 + (N1h2 - N1h) \n",
    "N2"
   ]
  },
  {
   "attachments": {},
   "cell_type": "markdown",
   "metadata": {},
   "source": [
    "yeah extrapolation is better approximation... $\\square$\n"
   ]
  },
  {
   "cell_type": "code",
   "execution_count": 421,
   "metadata": {},
   "outputs": [
    {
     "data": {
      "text/plain": [
       "-2.270409193982914e-09"
      ]
     },
     "execution_count": 421,
     "metadata": {},
     "output_type": "execute_result"
    }
   ],
   "source": [
    "def e(h):\n",
    "    return ((2+h)/(2-h))**(1/h)\n",
    "(np.e - e(0.0001))"
   ]
  },
  {
   "cell_type": "code",
   "execution_count": 422,
   "metadata": {},
   "outputs": [
    {
     "data": {
      "text/plain": [
       "[3.141592653589793, 3.141592679428359, 3.1415927569440494]"
      ]
     },
     "execution_count": 422,
     "metadata": {},
     "output_type": "execute_result"
    }
   ],
   "source": [
    "def pk(k):\n",
    "    return k*np.sin(np.pi/k)\n",
    "def Pk(k):\n",
    "    return k*np.tan(np.pi/k)\n",
    "\n",
    "[np.pi, (pk(10000) + Pk(10000)) /2, (2*Pk(20000) - pk(10000))]\n"
   ]
  },
  {
   "attachments": {},
   "cell_type": "markdown",
   "metadata": {},
   "source": [
    "### 4.3 Elements of Numerical Integration\n",
    "- basic method of approximating $\\int^b_a f(x) dx$ is called **numerical quadrature**, which uses a sum $\\sum^n_{i=0} a_if(x)$ to approximate.\n",
    "\n",
    "- Using the interpolation polynomials given in ch 3, we get:\n",
    "$$\n",
    "P_n(x) = \\sum^n_i f(x_i) L_i(x)\n",
    "$$\n",
    "where $L_i(x)$ are Lagrange Interpolating polynomials. Then, integrating over $[a,b]$:\n",
    "$$\n",
    "\\int^b_a f(x) dx = \\int^b_a  \\sum^n_i f(x_i) L_i(x) dx + \\text{err}(x)\n",
    "$$\n",
    "let $a_i = \\int^b_a L_i(x) dx$ to get \n",
    "\n",
    "$$\n",
    "\\int^b_a f(x) dx \\approx \\sum^n_i a_i f(x_i)\n",
    "$$\n",
    "\n",
    "- First Lagrange Polynomial: Trapezoid rule\n",
    "$$\n",
    "P_1(x) = \\frac{x-x_1}{x_0-x_1} f(x_0) + \\frac{x-x_0}{x_1-x_0} f(x_1)\n",
    "$$\n",
    "\n",
    "$$\n",
    "\\int_{a}^{b} f(x) dx = \\frac{h}{2} [f(x_0)  +f(x_1)] -\\frac{h^3}{12} f''(\\xi)\n",
    "$$\n",
    "- Second Lagrange Polynomial: Simpsons' Rule\n",
    "    - equally-spaced nodes: $x_0 =a, x_2 = b, x_1 = a+h, h=(b-a)/2$\n",
    "\n",
    "$$\n",
    "\\int_{x_0}^{x_2} f(x) dx = \\frac{h}{3} [f(x_0) +4f(x_1) +f(x_2)] -\\frac{h^5}{90} f^{(4)}(\\xi)\n",
    "$$\n",
    "Since the error term involves the fourth derivative of $f$ , simpsons rule gives exact results when applied to any polynomial of degree three or less.\n"
   ]
  },
  {
   "cell_type": "code",
   "execution_count": 423,
   "metadata": {},
   "outputs": [
    {
     "data": {
      "text/plain": [
       "0.9567913930082993"
      ]
     },
     "execution_count": 423,
     "metadata": {},
     "output_type": "execute_result"
    }
   ],
   "source": [
    "def f(x):\n",
    "    return np.sin(x)\n",
    "def simpsonsrule(f, a,b):\n",
    "    h = (b-a)/2\n",
    "    return (h/3) * (f(a) + 4*f(a+h) + f(b))\n",
    "\n",
    "simpsonsrule(f, 1, 2)"
   ]
  },
  {
   "attachments": {},
   "cell_type": "markdown",
   "metadata": {},
   "source": [
    "### Closed Newton-Cotes Formulas\n",
    "$$\n",
    "a_i = \\int^{x_n}_{x_0} L_i(x) dx = \\int^{x_n}_{x_0} \\prod^n_{j=0, j \\neq i} \\frac{x-x_j}{x_i-x_j}  dx\n",
    "$$\n",
    "where \n",
    "$$\n",
    "\\int^b_a f(x) dx \\approx \\sum^n_i a_i f(x_i)\n",
    "$$"
   ]
  },
  {
   "attachments": {},
   "cell_type": "markdown",
   "metadata": {},
   "source": [
    "### 4.6: Composite Numerical Integration\n"
   ]
  },
  {
   "cell_type": "code",
   "execution_count": 424,
   "metadata": {},
   "outputs": [
    {
     "data": {
      "text/plain": [
       "(array([[53.59815003, 56.76958295],\n",
       "        [53.59815003, 53.86384575],\n",
       "        [53.59815003, 53.6162208 ]]),\n",
       " array([[3.17143292],\n",
       "        [0.26569571],\n",
       "        [0.01807076]]))"
      ]
     },
     "execution_count": 424,
     "metadata": {},
     "output_type": "execute_result"
    }
   ],
   "source": [
    "def f(x):\n",
    "    return np.e**x\n",
    "a=np.array([[np.e**4-1 , simpsonsrule(f, 0,4)],\n",
    "            [np.e**4-1 , simpsonsrule(f,0,2)+simpsonsrule(f,2,4)], \n",
    "            [np.e**4-1 , simpsonsrule(f,0,1)+simpsonsrule(f,1,2)+simpsonsrule(f,2,3)+simpsonsrule(f,3,4)]\n",
    "            ])\n",
    "error=np.array([[a[0,1]-a[0,0]],\n",
    "                [a[1,1]-a[0,0]],\n",
    "                [a[2,1]-a[0,0]]])\n",
    "a,error"
   ]
  },
  {
   "attachments": {},
   "cell_type": "markdown",
   "metadata": {},
   "source": [
    "### Composite Simps Rule\n",
    "$$\n",
    "\\int^b_a f(x) dx = \\frac{h}{3} \\left[ f(a) + 2\\sum^{(n/2)-1}_{j=1} f(x_{2_j}) +  4\\sum^{n/2}_{j=1} f(x_{2_{j-1}}) + f(b) \\right] -\\frac{b-a}{180}h^4f^{(4)}(\\mu)\n",
    "$$\n",
    "where $f \\in C^4[a,b], n  \\text{ is even}, h = (b-a)/n, x_j = a+jh, \\forall j \\in [0,n]$\n",
    "\n",
    "### Comp Trapezoidal Rule\n",
    "$$\n",
    "\\int^b_a f(x) dx = \\frac{h}{2} \\left[ f(a) + 2\\sum^{n-1}_{j=1} f(x_{j}) +  + f(b) \\right] -\\frac{b-a}{12}h^2f^{(2)}(\\mu)\n",
    "$$\n",
    "where $f \\in C^2[a,b], n  \\text{ is even}, h = (b-a)/n, x_j = a+jh, \\forall j \\in [0,n]$\n",
    "\n",
    "### Comp Midpt Rule\n",
    "$$\n",
    "\\int^b_a f(x) dx =  2h\\sum^{n/2}_{j=0} f(x_{2_j}) -\\frac{b-a}{6}h^2f^{(2)}(\\mu)\n",
    "$$\n",
    "where $f \\in C^2[a,b], n  \\text{ is even}, h = (b-a)/(n+2), x_j = a+(j+1)h, \\forall (j+1) \\in [0,n] $"
   ]
  },
  {
   "cell_type": "code",
   "execution_count": 425,
   "metadata": {},
   "outputs": [
    {
     "data": {
      "text/plain": [
       "(1.604632818429607, 0.9972621551730293)"
      ]
     },
     "execution_count": 425,
     "metadata": {},
     "output_type": "execute_result"
    }
   ],
   "source": [
    "def standardDistro(x):\n",
    "    var=1\n",
    "    mean=0\n",
    "    return (1/(var*np.sqrt(2*np.pi))) * np.e**(-0.5*((x-mean)/var)**2)\n",
    "simpsonsrule(standardDistro, -3, 3), CSR(standardDistro, -3, 3, 500)\n"
   ]
  },
  {
   "attachments": {},
   "cell_type": "markdown",
   "metadata": {},
   "source": [
    "### 4.5 Romberg Integration\n",
    "- Richardson extrapolation applied to results from Composite Trapezoidal rule to obtain high accuarcy approximnations with little computational cost\n",
    "- Richardson extrapolation can be applied to any approximation procedure whose truncation error is of the form\n",
    "$$\n",
    "\\sum^{m-1}_{j=1} K_j h^{\\alpha_j} + O(h^{\\alpha_m})\n",
    "$$\n",
    "\n",
    "The Composite TRapezoidal rule has this form, so we can use the technique **Romberg Integration**\n",
    "\n",
    "To approximate $\\int^b_a f(x) dx$, we use results from the Composite Trapezoidal rule with $n=1,2,4, \\dots,  2^n$, and denote the resulting approximations by $R_{1,1}, R_{2,1} , R_{3,1}, \\dots, R_{n,1}$ respectively. Then, applying extrapolation in like in section 4.2, we obtain $O(h^4)$ approximations $R_{2,2}, R_{3,2} , R_{3,2}, \\dots, R_{n,2}$ :\n",
    "\n",
    "$$\n",
    "R_{n,2} = R_{n,1} + \\frac{1}{3} (R_{n,1} - R_{n-1,1}), \\text{ for } k = 2,3,4, \\dots\n",
    "$$\n",
    "\n",
    "In general, after the appropriate $R_{k,j-1}$ approximations have been obtained, we determine $O(h^{2j})$ approximations from\n",
    "\n",
    "$$\n",
    "R_{k,j} = R_{k,j-1} + \\frac{1}{4^{j-1}-1}(R_{k,j-1}-R_{k-1,j-1}), \\text{ for } k = j,j+1 , \\dots, \n",
    "$$"
   ]
  },
  {
   "cell_type": "code",
   "execution_count": 727,
   "metadata": {},
   "outputs": [
    {
     "name": "stderr",
     "output_type": "stream",
     "text": [
      "/tmp/ipykernel_3950/2330732692.py:16: RuntimeWarning: divide by zero encountered in scalar divide\n",
      "  R[i,j+1] = (R[i,j] + (R[i,j-1]-R[i-1,j-1])/(4**(j-1)-1))\n"
     ]
    },
    {
     "data": {
      "text/plain": [
       "array([[111.19630007,   0.        ,   0.        ,   0.        ,\n",
       "          0.        ],\n",
       "       [ 70.37626223,  70.37626223,   0.        ,   0.        ,\n",
       "          0.        ],\n",
       "       [ 65.38100597,  70.37626223,         -inf,   0.        ,\n",
       "          0.        ],\n",
       "       [ 73.50111854,  70.37626223,         -inf,          inf,\n",
       "          0.        ],\n",
       "       [ 83.67780722,   0.        ,   0.        ,   0.        ,\n",
       "          0.        ]])"
      ]
     },
     "execution_count": 727,
     "metadata": {},
     "output_type": "execute_result"
    }
   ],
   "source": [
    "def f(x):\n",
    "    return np.e**x\n",
    "#Romberg\n",
    "def Romberg(f, a,b,n):\n",
    "    h = b - a\n",
    "    R = np.zeros(shape=(n+1,n+1))\n",
    "\n",
    "    R[0,0] = h*(f(a)+f(b))/2\n",
    "    total = 0\n",
    "    for i in range(0,n):\n",
    "        for k in range(1,2**(i)+1):\n",
    "            x = a + (k-0.5)*h\n",
    "            total += f(x)\n",
    "        R[i+1,0]=(R[i,0] + h * total)/2\n",
    "        for j in range(0,i):\n",
    "            R[i,j+1] = (R[i,j] + (R[i,j-1]-R[i-1,j-1])/(4**(j-1)-1))\n",
    "\n",
    "        h = h/2\n",
    "        for j in range(1,i):\n",
    "            R[i,j] = R[i-1,j]\n",
    "\n",
    "    return R\n",
    "\n",
    "Romberg(f, 0, 4, 4)\n",
    "\n",
    "    \n",
    " \n",
    "            \n",
    "\n"
   ]
  },
  {
   "cell_type": "code",
   "execution_count": 667,
   "metadata": {},
   "outputs": [
    {
     "name": "stdout",
     "output_type": "stream",
     "text": [
      "[0.78539816]\n",
      "[0.94805945 1.00227988]\n",
      "[0.9871158  1.00013458 0.99999157]\n",
      "[0.99678517 1.0000083  0.99999988 1.00000001]\n",
      "1.0000000081440203\n"
     ]
    }
   ],
   "source": [
    "import numpy as np\n",
    "\n",
    "def trapezcomp(f, a, b, n):\n",
    "    \"\"\"\n",
    "    Composite trapezoidal function integration\n",
    "\n",
    "    INPUTS:\n",
    "    f:  the function to integrate\n",
    "    a:  lower bound of integration\n",
    "    b:  upper bound\n",
    "    n:  number of panels to create between ``a`` and ``b``\n",
    "    \"\"\"\n",
    "\n",
    "    # Initialization\n",
    "    h = (b - a) / n\n",
    "    x = a\n",
    "\n",
    "    # Composite rule\n",
    "    In = f(a)\n",
    "    for k in range(1, n):\n",
    "        x  = x + h\n",
    "        In += 2*f(x)\n",
    "\n",
    "    return (In + f(b))*h*0.5\n",
    "\n",
    "def romberg(f, a, b, p):\n",
    "    \"\"\"\n",
    "    Romberg integration\n",
    "\n",
    "    INPUTS:\n",
    "    f:  the function to integrate\n",
    "    a:  lower bound of integration\n",
    "    b:  upper bound\n",
    "    p:  number of rows in the Romberg table\n",
    "    \"\"\"\n",
    "\n",
    "    I = np.zeros((p, p))\n",
    "    for k in range(0, p):\n",
    "        # Composite trapezoidal rule for 2^k panels\n",
    "        I[k, 0] = trapezcomp(f, a, b, 2**k)\n",
    "\n",
    "        # Romberg recursive formula\n",
    "        for j in range(0, k):\n",
    "            I[k, j+1] = (4**(j+1) * I[k, j] - I[k-1, j]) / (4**(j+1) - 1)\n",
    "\n",
    "        print(I[k,0:k+1])   # display intermediate results\n",
    "\n",
    "    return I\n",
    "\n",
    "\n",
    "if __name__ == '__main__':\n",
    "    def func(x):\n",
    "        return np.sin(x)\n",
    "\n",
    "    p_rows = 4\n",
    "    I = romberg(func, 0, np.pi/2, p_rows)\n",
    "    solution = I[p_rows-1, p_rows-1]\n",
    "    print(solution)                  # 1.00000000814"
   ]
  },
  {
   "cell_type": "code",
   "execution_count": 728,
   "metadata": {},
   "outputs": [
    {
     "name": "stdout",
     "output_type": "stream",
     "text": [
      "[111.19630007]\n",
      "[70.37626223 56.76958295]\n",
      "[57.99194987 53.86384575 53.67012993]\n",
      "[54.71015306 53.6162208  53.59971247 53.59859473]\n"
     ]
    },
    {
     "data": {
      "text/plain": [
       "array([[111.19630007,   0.        ,   0.        ,   0.        ],\n",
       "       [ 70.37626223,  56.76958295,   0.        ,   0.        ],\n",
       "       [ 57.99194987,  53.86384575,  53.67012993,   0.        ],\n",
       "       [ 54.71015306,  53.6162208 ,  53.59971247,  53.59859473]])"
      ]
     },
     "execution_count": 728,
     "metadata": {},
     "output_type": "execute_result"
    }
   ],
   "source": [
    "def f(x):\n",
    "    return np.e**x\n",
    "\n",
    "#CompTrapRule\n",
    "def CompTrapRule(f, a, b, n):\n",
    "    h = (b-a)/n\n",
    "    x=np.zeros(n)\n",
    "    sum=0\n",
    "    for j in range(0,n):\n",
    "        x[j] = a +j*h\n",
    "    for k in range(1,n):\n",
    "        sum += f(x[k])\n",
    "    return (h/2) * (f(a) +2*sum + f(b))\n",
    "\n",
    "#Romberg Integration\n",
    "def RombergInt(f, a, b, r):\n",
    "    \"\"\"\n",
    "    Romberg integration\n",
    "\n",
    "    INPUTS:\n",
    "    f:  the function to integrate\n",
    "    a:  lower bound of integration\n",
    "    b:  upper bound\n",
    "    r:  number of rows in the Romberg table\n",
    "    \"\"\"\n",
    "    I = np.zeros((r, r))\n",
    "    for i in range(0, r):\n",
    "        # Composite trapezoidal rule for 2^k panels\n",
    "        I[i, 0] = CompTrapRule(f, a, b, 2**i)\n",
    "\n",
    "# Romberg recursive formula\n",
    "        for j in range(0, i):\n",
    "            I[i, j+1] = (4**(j+1) * I[i, j] - I[i-1, j]) / (4**(j+1) - 1)\n",
    "\n",
    "        print(I[i,0:i+1])   # display intermediate results\n",
    "\n",
    "    return I\n",
    "\n",
    "\n",
    "RombergInt(f, 0, 4, 4)\n"
   ]
  },
  {
   "cell_type": "code",
   "execution_count": null,
   "metadata": {},
   "outputs": [],
   "source": []
  }
 ],
 "metadata": {
  "kernelspec": {
   "display_name": "numerical",
   "language": "python",
   "name": "python3"
  },
  "language_info": {
   "codemirror_mode": {
    "name": "ipython",
    "version": 3
   },
   "file_extension": ".py",
   "mimetype": "text/x-python",
   "name": "python",
   "nbconvert_exporter": "python",
   "pygments_lexer": "ipython3",
   "version": "3.10.10"
  },
  "orig_nbformat": 4
 },
 "nbformat": 4,
 "nbformat_minor": 2
}
