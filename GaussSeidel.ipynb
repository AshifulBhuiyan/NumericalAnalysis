{
 "cells": [
  {
   "cell_type": "markdown",
   "metadata": {},
   "source": [
    "$$\n",
    "2x+y+z=5 \\\\\n",
    "3x + 5y+2z = 15\\\\\n",
    "2x+y+4z=8\\\\\n",
    "$$"
   ]
  },
  {
   "cell_type": "code",
   "execution_count": 19,
   "metadata": {},
   "outputs": [
    {
     "name": "stdout",
     "output_type": "stream",
     "text": [
      "value of x,y,z are 1.0000000051701765,2.000000000321559,0.9999999973345222 in 0 iterations.\n",
      "value of x,y,z are 7.5,-1.5,-1.375 in 1 iterations.\n",
      "value of x,y,z are 8.9375,-1.8125,-2.015625 in 2 iterations.\n",
      "value of x,y,z are 9.4140625,-1.8421875,-2.246484375 in 3 iterations.\n",
      "value of x,y,z are 9.544335937500001,-1.828007812500001,-2.3151660156250005 in 4 iterations.\n",
      "value of x,y,z are 9.5715869140625,-1.8168857421875,-2.331572021484375 in 5 iterations.\n",
      "value of x,y,z are 9.57422888183594,-1.8119085205078136,-2.334137310791016 in 6 iterations.\n",
      "value of x,y,z are 9.573022915649414,-1.8101588250732419,-2.3339717515563967 in 7 iterations.\n",
      "value of x,y,z are 9.57206528831482,-1.8096504723663334,-2.333620026065826 in 8 iterations.\n",
      "value of x,y,z are 9.57163524921608,-1.809533139103317,-2.3334343398322104 in 9 iterations.\n",
      "value of x,y,z are 9.571483739467762,-1.809516507747773,-2.333362742796938 in 10 iterations.\n",
      "value of x,y,z are 9.571439625272355,-1.8095186780446375,-2.333340143125018 in 11 iterations.\n",
      "value of x,y,z are 9.571429410584827,-1.8095215891008891,-2.333334308017191 in 12 iterations.\n",
      "value of x,y,z are 9.571427948559041,-1.809523045928548,-2.3333332127973834 in 13 iterations.\n",
      "value of x,y,z are 9.571428129362966,-1.8095235924988267,-2.333333166556776 in 14 iterations.\n",
      "value of x,y,z are 9.571428379527802,-1.809523761093971,-2.3333332494904084 in 15 iterations.\n",
      "value of x,y,z are 9.57142850529219,-1.8095238033791503,-2.333333301801307 in 16 iterations.\n"
     ]
    }
   ],
   "source": [
    "import numpy as np\n",
    "\n",
    "f1 = lambda x,y,z: (5-y-z)/2\n",
    "f2 = lambda x,y,z: (15-3*x-2*z)/5\n",
    "f3 = lambda x,y,z: (8-2*x-y)/4\n",
    "\n",
    "e = 0.00000001\n",
    "iteration = 0\n",
    "\n",
    "x0,y0,z0 = 0,0,0\n",
    "\n",
    "condition = True\n",
    "\n",
    "while condition:\n",
    "    print(f\"value of x,y,z are {x1},{y1},{z1} in {iteration} iterations.\")\n",
    "\n",
    "    x1 = f1(x0,y0,z0)\n",
    "    y1 = f2(x1,y0,z0)\n",
    "    z1 = f3(x1,y1,z0)\n",
    "\n",
    "    e1 = abs(x0-x1)\n",
    "    e2 = abs(y0-y1)\n",
    "    e3 = abs(z0-z1)\n",
    "\n",
    "    iteration += 1\n",
    "\n",
    "    x0 = x1\n",
    "    y0 = y1\n",
    "    z0 = z1\n",
    "\n",
    "\n",
    "    condition = e1 > e and e2 > e and e3 > e\n",
    "\n"
   ]
  },
  {
   "cell_type": "code",
   "execution_count": 30,
   "metadata": {},
   "outputs": [
    {
     "name": "stdout",
     "output_type": "stream",
     "text": [
      "Solution: [2.26316645 2.94735801 0.10525628]\n"
     ]
    }
   ],
   "source": [
    "def GaussSeidel(A, b, TOL=1e-10, N=1000, x0=None):\n",
    "    n = len(b)\n",
    "    x = np.zeros(n) if x0 is None else x0.copy()\n",
    "    for _ in range(N):\n",
    "        x_new = np.zeros(n)\n",
    "        for i in range(n):\n",
    "            x_new[i] = (b[i] - np.dot(A[i, :i], x_new[:i]) - np.dot(A[i, i+1:], x[i+1:])) / A[i, i]\n",
    "\n",
    "        if np.linalg.norm(x_new - x) < TOL:\n",
    "                return x_new\n",
    "        \n",
    "        x = x_new\n",
    "    \n",
    "    raise ValueError(\"Gauss-Seidel method did not converge within the specified maximum number of iterations.\")\n",
    "\n",
    "\n",
    "A = np.array([[4, 1, 0], [1, 3, -1], [2, -1, 4]])\n",
    "b = np.array([12, 11, 2])\n",
    "initial_guess = np.array([0, 0, 0])\n",
    "\n",
    "solution = GaussSeidel(A, b, 0.0001, 1000, x0=initial_guess)\n",
    "print(\"Solution:\", solution)"
   ]
  }
 ],
 "metadata": {
  "kernelspec": {
   "display_name": "Python 3",
   "language": "python",
   "name": "python3"
  },
  "language_info": {
   "codemirror_mode": {
    "name": "ipython",
    "version": 3
   },
   "file_extension": ".py",
   "mimetype": "text/x-python",
   "name": "python",
   "nbconvert_exporter": "python",
   "pygments_lexer": "ipython3",
   "version": "3.10.10"
  }
 },
 "nbformat": 4,
 "nbformat_minor": 2
}
