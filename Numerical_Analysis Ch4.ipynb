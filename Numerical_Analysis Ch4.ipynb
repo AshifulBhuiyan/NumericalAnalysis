{
 "cells": [
  {
   "attachments": {},
   "cell_type": "markdown",
   "metadata": {},
   "source": [
    "# Differentiation and Integration\n",
    "Composite Simpsons Rule:\n"
   ]
  },
  {
   "cell_type": "code",
   "execution_count": 6,
   "metadata": {},
   "outputs": [],
   "source": [
    "import numpy as np\n",
    "def f(x):\n",
    "    return x**2\n",
    "\n",
    "def CSR(f, a, b, N):\n",
    "    h = (b-a)/N\n",
    "    XI0 = f(a) + f(b)\n",
    "    XI1 = 0\n",
    "    XI2 = 0\n",
    "    for i in range(N-1):\n",
    "        X = a+i*h\n",
    "        if i%2 == 0:\n",
    "            XI2 = XI2 +f(X)\n",
    "        else:\n",
    "            XI1 = XI1 + f(X)\n",
    "    XI = h*(XI0 + 2 * XI2 + 4 * XI1)/3\n",
    "    return XI \n"
   ]
  },
  {
   "cell_type": "code",
   "execution_count": 12,
   "metadata": {},
   "outputs": [
    {
     "data": {
      "text/plain": [
       "291.6655000026689"
      ]
     },
     "execution_count": 12,
     "metadata": {},
     "output_type": "execute_result"
    }
   ],
   "source": [
    "CSR(f, 5,10, 500000)"
   ]
  },
  {
   "cell_type": "code",
   "execution_count": null,
   "metadata": {},
   "outputs": [],
   "source": []
  }
 ],
 "metadata": {
  "kernelspec": {
   "display_name": "numerical",
   "language": "python",
   "name": "python3"
  },
  "language_info": {
   "codemirror_mode": {
    "name": "ipython",
    "version": 3
   },
   "file_extension": ".py",
   "mimetype": "text/x-python",
   "name": "python",
   "nbconvert_exporter": "python",
   "pygments_lexer": "ipython3",
   "version": "3.11.3"
  },
  "orig_nbformat": 4
 },
 "nbformat": 4,
 "nbformat_minor": 2
}
