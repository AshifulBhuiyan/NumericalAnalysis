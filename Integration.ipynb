{
 "cells": [
  {
   "cell_type": "code",
   "execution_count": 1,
   "metadata": {},
   "outputs": [
    {
     "name": "stdout",
     "output_type": "stream",
     "text": [
      "1.33337051288114\n"
     ]
    }
   ],
   "source": [
    "def romberg_integration(f, a, b, n):\n",
    "    h = b - a\n",
    "    R = [[0] * (n+1) for _ in range(n+1)]\n",
    "\n",
    "    R[0][0] = 0.5 * h * (f(a) + f(b))\n",
    "\n",
    "    power_of_two = 1\n",
    "    for i in range(1, n+1):\n",
    "        h /= 2\n",
    "        total = 0\n",
    "\n",
    "        power_of_two *= 2\n",
    "        for k in range(1, power_of_two, 2):\n",
    "            total += f(a + k * h)\n",
    "\n",
    "        R[i][0] = 0.5 * (R[i-1][0] + h * total)\n",
    "\n",
    "        for j in range(1, i+1):\n",
    "            R[i][j] = R[i][j-1] + (R[i][j-1] - R[i-1][j-1]) / ((4 ** j) - 1)\n",
    "\n",
    "    return R[n][n]\n",
    "\n",
    "# Define the function f(x)\n",
    "def f(x):\n",
    "    return x ** 2\n",
    "\n",
    "# Define the limits of integration\n",
    "a = 0\n",
    "b = 2\n",
    "\n",
    "# Set the desired order of accuracy\n",
    "n = 15\n",
    "\n",
    "# Call the Romberg integration function\n",
    "result = romberg_integration(f, a, b, n)\n",
    "print(result)"
   ]
  }
 ],
 "metadata": {
  "kernelspec": {
   "display_name": "venv",
   "language": "python",
   "name": "python3"
  },
  "language_info": {
   "codemirror_mode": {
    "name": "ipython",
    "version": 3
   },
   "file_extension": ".py",
   "mimetype": "text/x-python",
   "name": "python",
   "nbconvert_exporter": "python",
   "pygments_lexer": "ipython3",
   "version": "3.10.12"
  }
 },
 "nbformat": 4,
 "nbformat_minor": 2
}
