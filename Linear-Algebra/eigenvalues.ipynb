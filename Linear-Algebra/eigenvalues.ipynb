{
 "cells": [
  {
   "cell_type": "code",
   "execution_count": 1,
   "metadata": {},
   "outputs": [],
   "source": [
    "import numpy as np"
   ]
  },
  {
   "attachments": {
    "image.png": {
     "image/png": "[encoded data removed]"
    }
   },
   "cell_type": "markdown",
   "metadata": {},
   "source": [
    " ![image.png](attachment:image.png)"
   ]
  },
  {
   "cell_type": "markdown",
   "metadata": {},
   "source": [
    "$$det(A-\\lambda I) = \\lambda^2 - (a+d) \\lambda + (ad-bc)$$\n",
    "\n",
    "quadratic formula\n",
    "$$\n",
    "\\lambda = \\frac{-b \\pm \\sqrt{b^2-4ac}}{2a}\n",
    "$$\n"
   ]
  },
  {
   "cell_type": "code",
   "execution_count": 4,
   "metadata": {},
   "outputs": [
    {
     "name": "stdout",
     "output_type": "stream",
     "text": [
      "(np.float64(5.372281323269014), np.float64(-0.3722813232690143))\n",
      "(np.float64(5.372281323269014), np.float64(-0.3722813232690143))\n"
     ]
    }
   ],
   "source": [
    "def eigenvalue(matrix):\n",
    "    a, b = matrix[0]\n",
    "    c, d = matrix[1]\n",
    "\n",
    "    trace = a + d\n",
    "    det = (a*d)-(b*c)\n",
    "\n",
    "    lambda1 = (trace + np.sqrt(trace**2 - 4*det))/2\n",
    "    lambda2 = (trace - np.sqrt(trace**2 - 4*det))/2\n",
    "    return lambda1, lambda2\n",
    "\n",
    "matrix = np.array([[1, 2], [3, 4]])\n",
    "print(eigenvalue(matrix))\n",
    "\n",
    "def eigenvalue(a,b,c,d):\n",
    "    v = -(a+d)\n",
    "    w = (a*d-b*c)\n",
    "    lambda_plus = (-v +np.sqrt(v**2 -4*1*w))/2\n",
    "    lambda_minus = (-v -np.sqrt(v**2 -4*1*w))/2\n",
    "    return lambda_plus, lambda_minus\n",
    "\n",
    "print(eigenvalue(1,2,3,4))"
   ]
  },
  {
   "cell_type": "code",
   "execution_count": null,
   "metadata": {},
   "outputs": [],
   "source": []
  }
 ],
 "metadata": {
  "kernelspec": {
   "display_name": "venv",
   "language": "python",
   "name": "python3"
  },
  "language_info": {
   "codemirror_mode": {
    "name": "ipython",
    "version": 3
   },
   "file_extension": ".py",
   "mimetype": "text/x-python",
   "name": "python",
   "nbconvert_exporter": "python",
   "pygments_lexer": "ipython3",
   "version": "3.10.12"
  }
 },
 "nbformat": 4,
 "nbformat_minor": 2
}
