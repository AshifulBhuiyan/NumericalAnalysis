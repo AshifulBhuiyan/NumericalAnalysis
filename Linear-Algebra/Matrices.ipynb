{
 "cells": [
  {
   "cell_type": "code",
   "execution_count": 4,
   "metadata": {},
   "outputs": [],
   "source": [
    "import numpy as np"
   ]
  },
  {
   "cell_type": "markdown",
   "metadata": {},
   "source": [
    "$$\n",
    "2x+y+z=5 \\\\\n",
    "3x + 5y+2z = 15\\\\\n",
    "2x+y+4z=8\\\\\n",
    "$$"
   ]
  },
  {
   "cell_type": "code",
   "execution_count": 5,
   "metadata": {},
   "outputs": [
    {
     "name": "stdout",
     "output_type": "stream",
     "text": [
      "Iteration 0: x = 2.5, y = 1.5, z = 0.375\n",
      "Iteration 1: x = 1.5625, y = 1.9125, z = 0.740625\n",
      "Iteration 2: x = 1.1734375, y = 1.9996875000000003, z = 0.913359375\n",
      "Iteration 3: x = 1.0434765625, y = 2.0085703125000003, z = 0.9761191406249999\n",
      "Iteration 4: x = 1.0076552734375, y = 2.0049591796875, z = 0.994932568359375\n",
      "Iteration 5: x = 1.0000541259765625, y = 2.0019944970703127, z = 0.9994743127441406\n",
      "Iteration 6: x = 0.9992655950927734, y = 2.00065091784668, z = 1.0002044729919433\n",
      "Iteration 7: x = 0.9995723045806885, y = 2.0001748280548095, z = 1.0001701406959533\n",
      "Iteration 8: x = 0.9998275156246186, y = 2.0000354343468474, z = 1.000077383600979\n",
      "Iteration 9: x = 0.9999435910260868, y = 2.0000028919439563, z = 1.0000274815009675\n",
      "Iteration 10: x = 0.9999848132775381, y = 1.9999981194330902, z = 1.0000080635029582\n",
      "Iteration 11: x = 0.9999969085319758, y = 1.9999986294796315, z = 1.0000018883641042\n",
      "Iteration 12: x = 0.999999741078132, y = 1.999999400007479, z = 1.0000002794590643\n",
      "Iteration 13: x = 1.0000001602667283, y = 1.9999997920563373, z = 0.9999999718525515\n",
      "Iteration 14: x = 1.0000001180455556, y = 1.9999999404316462, z = 0.9999999558693107\n",
      "Iteration 15: x = 1.0000000518495216, y = 1.9999999865425628, z = 0.9999999774395985\n",
      "Iteration 16: x = 1.0000000180089192, y = 1.999999998218809, z = 0.9999999914408382\n",
      "Iteration 17: x = 1.0000000051701765, y = 2.000000000321559, z = 0.9999999973345222\n",
      "Iteration 18: x = 1.0000000011719594, y = 2.0000000003630154, z = 0.9999999993232664\n"
     ]
    }
   ],
   "source": [
    "# Define the functions for the system of equations\n",
    "f1 = lambda x, y, z: (5 - y - z) / 2\n",
    "f2 = lambda x, y, z: (15 - 3 * x - 2 * z) / 5\n",
    "f3 = lambda x, y, z: (8 - 2 * x - y) / 4\n",
    "\n",
    "# Error tolerance\n",
    "e = 0.00000001\n",
    "iteration = 0\n",
    "\n",
    "# Initial guesses\n",
    "x0, y0, z0 = 0, 0, 0\n",
    "\n",
    "# Loop condition\n",
    "condition = True\n",
    "\n",
    "while condition:\n",
    "    # Update the values based on the functions\n",
    "    x1 = f1(x0, y0, z0)\n",
    "    y1 = f2(x1, y0, z0)\n",
    "    z1 = f3(x1, y1, z0)\n",
    "\n",
    "    # Print the current iteration values (after the update)\n",
    "    print(f\"Iteration {iteration}: x = {x1}, y = {y1}, z = {z1}\")\n",
    "\n",
    "    # Calculate the errors\n",
    "    e1 = abs(x0 - x1)\n",
    "    e2 = abs(y0 - y1)\n",
    "    e3 = abs(z0 - z1)\n",
    "\n",
    "    # Increment the iteration counter\n",
    "    iteration += 1\n",
    "\n",
    "    # Update the current values for the next iteration\n",
    "    x0 = x1\n",
    "    y0 = y1\n",
    "    z0 = z1\n",
    "\n",
    "    # Check if the errors are all less than the tolerance\n",
    "    condition = e1 > e or e2 > e or e3 > e\n"
   ]
  },
  {
   "cell_type": "markdown",
   "metadata": {},
   "source": [
    "Gauss Seidel"
   ]
  },
  {
   "cell_type": "code",
   "execution_count": 6,
   "metadata": {},
   "outputs": [
    {
     "name": "stdout",
     "output_type": "stream",
     "text": [
      "Solution: [2.26316645 2.94735801 0.10525628]\n"
     ]
    }
   ],
   "source": [
    "def GaussSeidel(A, b, TOL=1e-10, N=1000, x0=None):\n",
    "    n = len(b)\n",
    "    x = np.zeros(n) if x0 is None else x0.copy()\n",
    "    for _ in range(N):\n",
    "        x_new = np.zeros(n)\n",
    "        for i in range(n):\n",
    "            x_new[i] = (b[i] - np.dot(A[i, :i], x_new[:i]) - np.dot(A[i, i+1:], x[i+1:])) / A[i, i]\n",
    "\n",
    "        if np.linalg.norm(x_new - x) < TOL:\n",
    "                return x_new\n",
    "        \n",
    "        x = x_new\n",
    "    \n",
    "    raise ValueError(\"Gauss-Seidel method did not converge within the specified maximum number of iterations.\")\n",
    "\n",
    "\n",
    "A = np.array([[4, 1, 0], [1, 3, -1], [2, -1, 4]])\n",
    "b = np.array([12, 11, 2])\n",
    "initial_guess = np.array([0, 0, 0])\n",
    "\n",
    "solution = GaussSeidel(A, b, 0.0001, 1000, x0=initial_guess)\n",
    "print(\"Solution:\", solution)"
   ]
  }
 ],
 "metadata": {
  "kernelspec": {
   "display_name": "venv",
   "language": "python",
   "name": "python3"
  },
  "language_info": {
   "codemirror_mode": {
    "name": "ipython",
    "version": 3
   },
   "file_extension": ".py",
   "mimetype": "text/x-python",
   "name": "python",
   "nbconvert_exporter": "python",
   "pygments_lexer": "ipython3",
   "version": "3.10.12"
  }
 },
 "nbformat": 4,
 "nbformat_minor": 2
}
