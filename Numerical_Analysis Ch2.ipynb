{
 "cells": [
  {
   "cell_type": "code",
   "execution_count": 1,
   "metadata": {},
   "outputs": [],
   "source": [
    "import numpy as np"
   ]
  },
  {
   "attachments": {},
   "cell_type": "markdown",
   "metadata": {},
   "source": [
    "\n",
    "# Solution of Eqns in One Variable\n",
    "The growth of a pop. can be ofte modeled over short periods of time, by assuming tht the pop. grows continiously with time at a rate proportional to the number present at that time. Suppose that $N(t)$ denotes the number in the pop. at time *t* and $\\lambda$ denotes the constant birth rate of the pop Then the pop. satisfies the diff eqn :\n",
    "\n",
    "$$\n",
    " \\frac{dN(t)}{dt} =  \\lambda N(t)\n",
    "$$\n",
    "\n",
    "whose sol. is $N(t) = N_0 e^{\\lambda t}$, where $N_0$ denotes initial pop.\n",
    "\n"
   ]
  },
  {
   "attachments": {},
   "cell_type": "markdown",
   "metadata": {},
   "source": [
    "### 2.1 Bisection Method\n"
   ]
  },
  {
   "cell_type": "code",
   "execution_count": 2,
   "metadata": {},
   "outputs": [
    {
     "name": "stdout",
     "output_type": "stream",
     "text": [
      "33 32\n"
     ]
    },
    {
     "data": {
      "text/plain": [
       "1.324717957060784"
      ]
     },
     "execution_count": 2,
     "metadata": {},
     "output_type": "execute_result"
    }
   ],
   "source": [
    "def f(x):\n",
    "    return x**3 -x -1\n",
    "\n",
    "def validate_interval(f,x0,x1):\n",
    "    return f(x0)*f(x1) < 0\n",
    "\n",
    "def error_bound(a,b,err):\n",
    "    n=np.log((b-a)/err) / np.log(2)\n",
    "    return int(np.ceil(n))\n",
    "\n",
    "def bisection(f, interval, tol):\n",
    "    x0, x1 = interval[0], interval[1] #extract interval \n",
    "    if not validate_interval(f, x0, x1): #check interval can be solved for roots\n",
    "        return\n",
    "\n",
    "    n = error_bound(x0, x1, tol)\n",
    "    counter = 1\n",
    "    while True:\n",
    "        root_approx = x0 + ((x1-x0)/2)\n",
    "        y = f(root_approx)\n",
    "        if -tol < y < tol:\n",
    "            print(counter, n)\n",
    "            return root_approx\n",
    "        if validate_interval(f,x0,root_approx):\n",
    "            x1 = root_approx\n",
    "        else:\n",
    "            x0 = root_approx\n",
    "        counter += 1\n",
    "\n",
    "\n",
    "\n",
    "bisection(f,[-1,3], 0.000000001) "
   ]
  },
  {
   "cell_type": "code",
   "execution_count": 3,
   "metadata": {},
   "outputs": [
    {
     "name": "stdout",
     "output_type": "stream",
     "text": [
      "13.28771237954945\n",
      "14 1.36517333984375\n"
     ]
    },
    {
     "data": {
      "text/plain": [
       "1.36517333984375"
      ]
     },
     "execution_count": 3,
     "metadata": {},
     "output_type": "execute_result"
    }
   ],
   "source": [
    "import numpy as np\n",
    "\n",
    "def f(x):\n",
    "    return x**3 +4*x**2 -10\n",
    "def error_bound(a,b,err):\n",
    "    n=np.log((b-a)/err) / np.log(2)\n",
    "    print(n)\n",
    "    return int(np.ceil(n))\n",
    "\n",
    "\n",
    "def bisection(f, a, b, tol):\n",
    "    i=1\n",
    "   \n",
    "    n = error_bound(a, b, tol)\n",
    "    while i <= n:\n",
    "        p = a + ((b-a)/2)\n",
    "       \n",
    "        if f(p) == 0 or (b-a)/2 < tol:\n",
    "            print(i, p)\n",
    "            return p\n",
    "        if f(a)*f(p) > 0:\n",
    "            a = p\n",
    "          \n",
    "        else:\n",
    "            b=p\n",
    "        i+=1\n",
    "    return\n",
    "\n",
    "bisection(f,1,2,0.0001)\n"
   ]
  },
  {
   "attachments": {},
   "cell_type": "markdown",
   "metadata": {},
   "source": [
    "### 2.2 Fixed Pt Iteration\n",
    "The number *p* is a fixed pt for a given fn $g$ if $g(p)= p$\n",
    "\n",
    "Same as the roots of the fn $f(x)=x-g(x)$\n",
    "\n",
    "this one sucks wtf, they try to find p = g(p) and u have to give what p_0 is?"
   ]
  },
  {
   "attachments": {},
   "cell_type": "markdown",
   "metadata": {},
   "source": [
    "### 2.3 Newton's Method\n",
    "- used for root finding\n",
    "- based on taylor polynomials\n",
    "\n",
    "Suppose that $f \\in C^2[a,b]$ Let $p_0 \\in [a,b]$ be an approx to $p$ s.t $f'(p_0) \\neq 0$ and $|p-p_0|$  is small. Consider the first Taylor polynomial for $f(x)$ expanded about $p_0$ and evaluated at $x=p$:\n",
    "\n",
    "$$\n",
    "f(p) = f(p_0) + (p-p_0)f'(p_0)+\\frac{(p-p_0)^2}{2}f''(\\xi (p))\n",
    "$$\n",
    "where $\\xi (p)$ lies between $p$ and $p_0$ . Since $f(p) = 0$ , this eqn gives:\n",
    "\n",
    "$$\n",
    "0 = f(p_0) + (p-p_0)f'(p_0) + \\frac{(p-p_0)^2}{2} f''(\\xi (p)).\n",
    "$$\n",
    "\n",
    "Assuming $|p-p_0|$ is small, $|p-p_0|^2$ is much smaller, so\n",
    "\n",
    "$$\n",
    "0 \\approx f(p_0) + (p-p_0)f'(p_0)\n",
    "$$\n",
    "\n",
    "and solving for $p$ gives:\n",
    "\n",
    "$$\n",
    "p \\approx p_0 - \\frac{f(p_0)}{f'(p_0)} \\equiv p_1\n",
    "$$\n",
    "\n",
    "This sets the background for Newton's method, which starts with an initial approx $p_0$ and generates the sequence $\\{p_n\\}^\\infty_{n=0}$, by:\n",
    "\n",
    "$$\n",
    "p_n = p_{n-1} - \\frac{f(p_{n-1})}{f'(p_{n-1})}, \\quad \\text{for} \\ n \\geq 1\n",
    "$$\n",
    "\n"
   ]
  },
  {
   "cell_type": "code",
   "execution_count": 24,
   "metadata": {},
   "outputs": [
    {
     "data": {
      "text/plain": [
       "0.7390851781060102"
      ]
     },
     "execution_count": 24,
     "metadata": {},
     "output_type": "execute_result"
    }
   ],
   "source": [
    "def f(x):\n",
    "    return np.cos(x)-x\n",
    "\n",
    "def df(x):\n",
    "    return -1*np.sin(x) -1\n",
    "\n",
    "def Newton(f, p_0, tol, N):\n",
    "    i = 1\n",
    "    while i <= N:\n",
    "        p = p_0 - f(p_0)/df(p_0)\n",
    "        if np.absolute(p-p_0) < tol:\n",
    "            return p\n",
    "        i += 1\n",
    "        p_0 = p\n",
    "    print(\"couldn't find after\", i , \"iterations\")\n",
    "\n",
    "Newton(f,np.pi/4, 0.001, 5)"
   ]
  },
  {
   "cell_type": "code",
   "execution_count": null,
   "metadata": {},
   "outputs": [],
   "source": []
  }
 ],
 "metadata": {
  "kernelspec": {
   "display_name": "Python 3",
   "language": "python",
   "name": "python3"
  },
  "language_info": {
   "codemirror_mode": {
    "name": "ipython",
    "version": 3
   },
   "file_extension": ".py",
   "mimetype": "text/x-python",
   "name": "python",
   "nbconvert_exporter": "python",
   "pygments_lexer": "ipython3",
   "version": "3.10.10"
  },
  "orig_nbformat": 4
 },
 "nbformat": 4,
 "nbformat_minor": 2
}
