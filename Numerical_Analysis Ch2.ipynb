{
 "cells": [
  {
   "cell_type": "code",
   "execution_count": 4,
   "metadata": {},
   "outputs": [],
   "source": [
    "import numpy as np"
   ]
  },
  {
   "attachments": {},
   "cell_type": "markdown",
   "metadata": {},
   "source": [
    "\n",
    "# Solution of Eqns in One Variable\n",
    "The growth of a pop. can be ofte modeled over short periods of time, by assuming tht the pop. grows continiously with time at a rate proportional to the number present at that time. Suppose that $N(t)$ denotes the number in the pop. at time *t* and $ \\lambda$ denotes the constant birth rate of the pop Then the pop. satisfies the diff eqn :\n",
    "\n",
    "$$\n",
    " \\frac{dN(t)}{dt} =  \\lambda N(t)\n",
    "$$\n",
    "\n",
    "whose sol. is $N(t) = N_0 e^\\{\\lambda t}$, where $N_0$ denotes initial pop.\n",
    "\n"
   ]
  },
  {
   "attachments": {},
   "cell_type": "markdown",
   "metadata": {},
   "source": [
    "### 2.1 Bisection Method\n"
   ]
  },
  {
   "cell_type": "code",
   "execution_count": 49,
   "metadata": {},
   "outputs": [
    {
     "name": "stdout",
     "output_type": "stream",
     "text": [
      "33 32\n"
     ]
    },
    {
     "data": {
      "text/plain": [
       "1.324717957060784"
      ]
     },
     "execution_count": 49,
     "metadata": {},
     "output_type": "execute_result"
    }
   ],
   "source": [
    "def f(x):\n",
    "    return x**3 -x -1\n",
    "\n",
    "def validate_interval(f,x0,x1):\n",
    "    return f(x0)*f(x1) < 0\n",
    "\n",
    "def error_bound(a,b,err):\n",
    "    n=np.log((b-a)/err) / np.log(2)\n",
    "    return int(np.ceil(n))\n",
    "\n",
    "def bisection(f, interval, tol):\n",
    "    x0, x1 = interval[0], interval[1] #extract interval \n",
    "    if not validate_interval(f, x0, x1): #check interval can be solved for roots\n",
    "        return\n",
    "\n",
    "    n = error_bound(x0, x1, tol)\n",
    "    counter = 1\n",
    "    while True:\n",
    "        root_approx = x0 + ((x1-x0)/2)\n",
    "        y = f(root_approx)\n",
    "        if -tol < y < tol:\n",
    "            print(counter, n)\n",
    "            return root_approx\n",
    "        if validate_interval(f,x0,root_approx):\n",
    "            x1 = root_approx\n",
    "        else:\n",
    "            x0 = root_approx\n",
    "        counter += 1\n",
    "\n",
    "\n",
    "\n",
    "bisection(f,[-1,3], 0.000000001) "
   ]
  },
  {
   "cell_type": "code",
   "execution_count": 60,
   "metadata": {},
   "outputs": [
    {
     "name": "stdout",
     "output_type": "stream",
     "text": [
      "9.965784284662087\n",
      "10 1.3642578125\n"
     ]
    },
    {
     "data": {
      "text/plain": [
       "1.3642578125"
      ]
     },
     "execution_count": 60,
     "metadata": {},
     "output_type": "execute_result"
    }
   ],
   "source": [
    "def f(x):\n",
    "    return x**3 + 4*x**2 - 10\n",
    "\n",
    "def error_bound(a,b,err):\n",
    "    n=np.log((b-a)/err) / np.log(2)\n",
    "    print(n)\n",
    "    return int(np.ceil(n))\n",
    "\n",
    "\n",
    "def bisections(a, b, tol):\n",
    "    i=1\n",
    "    FA = f(x)\n",
    "    n = error_bound(a, b, tol)\n",
    "    while i <= n:\n",
    "        p = a + (b-a)/2\n",
    "        FP = f(p)\n",
    "        if FP == 0 or (b-a)/2 < tol:\n",
    "            print(i, p)\n",
    "            return p\n",
    "        if FA*FP > 0:\n",
    "            a = p\n",
    "            FA = FP\n",
    "        else:\n",
    "            b=p\n",
    "        i+=1\n",
    "    return\n",
    "\n",
    "bisections(1,2,0.001)\n"
   ]
  },
  {
   "cell_type": "code",
   "execution_count": null,
   "metadata": {},
   "outputs": [],
   "source": []
  }
 ],
 "metadata": {
  "kernelspec": {
   "display_name": "Python 3",
   "language": "python",
   "name": "python3"
  },
  "language_info": {
   "codemirror_mode": {
    "name": "ipython",
    "version": 3
   },
   "file_extension": ".py",
   "mimetype": "text/x-python",
   "name": "python",
   "nbconvert_exporter": "python",
   "pygments_lexer": "ipython3",
   "version": "3.10.5"
  },
  "orig_nbformat": 4
 },
 "nbformat": 4,
 "nbformat_minor": 2
}
